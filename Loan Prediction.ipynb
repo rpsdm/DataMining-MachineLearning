{
 "cells": [
  {
   "cell_type": "markdown",
   "id": "bc6f1550-3b4c-4046-a842-519ff6797dc5",
   "metadata": {},
   "source": [
    "# Loan Prediction"
   ]
  },
  {
   "cell_type": "markdown",
   "id": "b8ff6c5e-81b8-442a-891a-61da3b8b6dad",
   "metadata": {},
   "source": [
    "## Installing packages"
   ]
  },
  {
   "cell_type": "code",
   "execution_count": null,
   "id": "be145663-86c4-4b66-a641-1b4743e3a05e",
   "metadata": {},
   "outputs": [],
   "source": [
    "pip install python-dotenv kaggle keras tensorflow pandas numpy scipy"
   ]
  },
  {
   "cell_type": "markdown",
   "id": "fc8d108d-35e4-4fd2-836e-14f184ec992d",
   "metadata": {},
   "source": [
    "## Downloading the dataset"
   ]
  },
  {
   "cell_type": "code",
   "execution_count": 1,
   "id": "6707aa5e-8816-42ff-ad39-73593548dc32",
   "metadata": {},
   "outputs": [],
   "source": [
    "# Load environment\n",
    "from dotenv import load_dotenv\n",
    "load_dotenv();"
   ]
  },
  {
   "cell_type": "code",
   "execution_count": 2,
   "id": "f0b0470b-c3ca-4e3f-8be0-6ab6796ac9ec",
   "metadata": {},
   "outputs": [],
   "source": [
    "# Setup kaggle API\n",
    "from kaggle.api.kaggle_api_extended import KaggleApi\n",
    "api = KaggleApi()\n",
    "api.authenticate()"
   ]
  },
  {
   "cell_type": "code",
   "execution_count": 3,
   "id": "74652477-cdee-4dbe-8d2a-3e86a361aa81",
   "metadata": {},
   "outputs": [],
   "source": [
    "# Download dataset\n",
    "# The dataset belongs to a Hackathon organized by Univ.AI\n",
    "api.dataset_download_files('subhamjain/loan-prediction-based-on-customer-behavior', path=\".\")"
   ]
  },
  {
   "cell_type": "markdown",
   "id": "c11722fb-0710-4973-9f2a-25e0ae702c4b",
   "metadata": {},
   "source": [
    "The downloaded zip file needs to be extracted."
   ]
  },
  {
   "cell_type": "code",
   "execution_count": 4,
   "id": "79eb544b-fb85-43d9-9376-6e766583bc59",
   "metadata": {},
   "outputs": [
    {
     "data": {
      "text/html": [
       "<div>\n",
       "<style scoped>\n",
       "    .dataframe tbody tr th:only-of-type {\n",
       "        vertical-align: middle;\n",
       "    }\n",
       "\n",
       "    .dataframe tbody tr th {\n",
       "        vertical-align: top;\n",
       "    }\n",
       "\n",
       "    .dataframe thead th {\n",
       "        text-align: right;\n",
       "    }\n",
       "</style>\n",
       "<table border=\"1\" class=\"dataframe\">\n",
       "  <thead>\n",
       "    <tr style=\"text-align: right;\">\n",
       "      <th></th>\n",
       "      <th>Id</th>\n",
       "      <th>Income</th>\n",
       "      <th>Age</th>\n",
       "      <th>Experience</th>\n",
       "      <th>Married/Single</th>\n",
       "      <th>House_Ownership</th>\n",
       "      <th>Car_Ownership</th>\n",
       "      <th>Profession</th>\n",
       "      <th>CITY</th>\n",
       "      <th>STATE</th>\n",
       "      <th>CURRENT_JOB_YRS</th>\n",
       "      <th>CURRENT_HOUSE_YRS</th>\n",
       "      <th>Risk_Flag</th>\n",
       "    </tr>\n",
       "  </thead>\n",
       "  <tbody>\n",
       "    <tr>\n",
       "      <th>0</th>\n",
       "      <td>1</td>\n",
       "      <td>1303834</td>\n",
       "      <td>23</td>\n",
       "      <td>3</td>\n",
       "      <td>single</td>\n",
       "      <td>rented</td>\n",
       "      <td>no</td>\n",
       "      <td>Mechanical_engineer</td>\n",
       "      <td>Rewa</td>\n",
       "      <td>Madhya_Pradesh</td>\n",
       "      <td>3</td>\n",
       "      <td>13</td>\n",
       "      <td>0</td>\n",
       "    </tr>\n",
       "    <tr>\n",
       "      <th>1</th>\n",
       "      <td>2</td>\n",
       "      <td>7574516</td>\n",
       "      <td>40</td>\n",
       "      <td>10</td>\n",
       "      <td>single</td>\n",
       "      <td>rented</td>\n",
       "      <td>no</td>\n",
       "      <td>Software_Developer</td>\n",
       "      <td>Parbhani</td>\n",
       "      <td>Maharashtra</td>\n",
       "      <td>9</td>\n",
       "      <td>13</td>\n",
       "      <td>0</td>\n",
       "    </tr>\n",
       "    <tr>\n",
       "      <th>2</th>\n",
       "      <td>3</td>\n",
       "      <td>3991815</td>\n",
       "      <td>66</td>\n",
       "      <td>4</td>\n",
       "      <td>married</td>\n",
       "      <td>rented</td>\n",
       "      <td>no</td>\n",
       "      <td>Technical_writer</td>\n",
       "      <td>Alappuzha</td>\n",
       "      <td>Kerala</td>\n",
       "      <td>4</td>\n",
       "      <td>10</td>\n",
       "      <td>0</td>\n",
       "    </tr>\n",
       "    <tr>\n",
       "      <th>3</th>\n",
       "      <td>4</td>\n",
       "      <td>6256451</td>\n",
       "      <td>41</td>\n",
       "      <td>2</td>\n",
       "      <td>single</td>\n",
       "      <td>rented</td>\n",
       "      <td>yes</td>\n",
       "      <td>Software_Developer</td>\n",
       "      <td>Bhubaneswar</td>\n",
       "      <td>Odisha</td>\n",
       "      <td>2</td>\n",
       "      <td>12</td>\n",
       "      <td>1</td>\n",
       "    </tr>\n",
       "    <tr>\n",
       "      <th>4</th>\n",
       "      <td>5</td>\n",
       "      <td>5768871</td>\n",
       "      <td>47</td>\n",
       "      <td>11</td>\n",
       "      <td>single</td>\n",
       "      <td>rented</td>\n",
       "      <td>no</td>\n",
       "      <td>Civil_servant</td>\n",
       "      <td>Tiruchirappalli[10]</td>\n",
       "      <td>Tamil_Nadu</td>\n",
       "      <td>3</td>\n",
       "      <td>14</td>\n",
       "      <td>1</td>\n",
       "    </tr>\n",
       "    <tr>\n",
       "      <th>...</th>\n",
       "      <td>...</td>\n",
       "      <td>...</td>\n",
       "      <td>...</td>\n",
       "      <td>...</td>\n",
       "      <td>...</td>\n",
       "      <td>...</td>\n",
       "      <td>...</td>\n",
       "      <td>...</td>\n",
       "      <td>...</td>\n",
       "      <td>...</td>\n",
       "      <td>...</td>\n",
       "      <td>...</td>\n",
       "      <td>...</td>\n",
       "    </tr>\n",
       "    <tr>\n",
       "      <th>251995</th>\n",
       "      <td>251996</td>\n",
       "      <td>8154883</td>\n",
       "      <td>43</td>\n",
       "      <td>13</td>\n",
       "      <td>single</td>\n",
       "      <td>rented</td>\n",
       "      <td>no</td>\n",
       "      <td>Surgeon</td>\n",
       "      <td>Kolkata</td>\n",
       "      <td>West_Bengal</td>\n",
       "      <td>6</td>\n",
       "      <td>11</td>\n",
       "      <td>0</td>\n",
       "    </tr>\n",
       "    <tr>\n",
       "      <th>251996</th>\n",
       "      <td>251997</td>\n",
       "      <td>2843572</td>\n",
       "      <td>26</td>\n",
       "      <td>10</td>\n",
       "      <td>single</td>\n",
       "      <td>rented</td>\n",
       "      <td>no</td>\n",
       "      <td>Army_officer</td>\n",
       "      <td>Rewa</td>\n",
       "      <td>Madhya_Pradesh</td>\n",
       "      <td>6</td>\n",
       "      <td>11</td>\n",
       "      <td>0</td>\n",
       "    </tr>\n",
       "    <tr>\n",
       "      <th>251997</th>\n",
       "      <td>251998</td>\n",
       "      <td>4522448</td>\n",
       "      <td>46</td>\n",
       "      <td>7</td>\n",
       "      <td>single</td>\n",
       "      <td>rented</td>\n",
       "      <td>no</td>\n",
       "      <td>Design_Engineer</td>\n",
       "      <td>Kalyan-Dombivli</td>\n",
       "      <td>Maharashtra</td>\n",
       "      <td>7</td>\n",
       "      <td>12</td>\n",
       "      <td>0</td>\n",
       "    </tr>\n",
       "    <tr>\n",
       "      <th>251998</th>\n",
       "      <td>251999</td>\n",
       "      <td>6507128</td>\n",
       "      <td>45</td>\n",
       "      <td>0</td>\n",
       "      <td>single</td>\n",
       "      <td>rented</td>\n",
       "      <td>no</td>\n",
       "      <td>Graphic_Designer</td>\n",
       "      <td>Pondicherry</td>\n",
       "      <td>Puducherry</td>\n",
       "      <td>0</td>\n",
       "      <td>10</td>\n",
       "      <td>0</td>\n",
       "    </tr>\n",
       "    <tr>\n",
       "      <th>251999</th>\n",
       "      <td>252000</td>\n",
       "      <td>9070230</td>\n",
       "      <td>70</td>\n",
       "      <td>17</td>\n",
       "      <td>single</td>\n",
       "      <td>rented</td>\n",
       "      <td>no</td>\n",
       "      <td>Statistician</td>\n",
       "      <td>Avadi</td>\n",
       "      <td>Tamil_Nadu</td>\n",
       "      <td>7</td>\n",
       "      <td>11</td>\n",
       "      <td>0</td>\n",
       "    </tr>\n",
       "  </tbody>\n",
       "</table>\n",
       "<p>252000 rows × 13 columns</p>\n",
       "</div>"
      ],
      "text/plain": [
       "            Id   Income  Age  Experience Married/Single House_Ownership  \\\n",
       "0            1  1303834   23           3         single          rented   \n",
       "1            2  7574516   40          10         single          rented   \n",
       "2            3  3991815   66           4        married          rented   \n",
       "3            4  6256451   41           2         single          rented   \n",
       "4            5  5768871   47          11         single          rented   \n",
       "...        ...      ...  ...         ...            ...             ...   \n",
       "251995  251996  8154883   43          13         single          rented   \n",
       "251996  251997  2843572   26          10         single          rented   \n",
       "251997  251998  4522448   46           7         single          rented   \n",
       "251998  251999  6507128   45           0         single          rented   \n",
       "251999  252000  9070230   70          17         single          rented   \n",
       "\n",
       "       Car_Ownership           Profession                 CITY  \\\n",
       "0                 no  Mechanical_engineer                 Rewa   \n",
       "1                 no   Software_Developer             Parbhani   \n",
       "2                 no     Technical_writer            Alappuzha   \n",
       "3                yes   Software_Developer          Bhubaneswar   \n",
       "4                 no        Civil_servant  Tiruchirappalli[10]   \n",
       "...              ...                  ...                  ...   \n",
       "251995            no              Surgeon              Kolkata   \n",
       "251996            no         Army_officer                 Rewa   \n",
       "251997            no      Design_Engineer      Kalyan-Dombivli   \n",
       "251998            no     Graphic_Designer          Pondicherry   \n",
       "251999            no         Statistician                Avadi   \n",
       "\n",
       "                 STATE  CURRENT_JOB_YRS  CURRENT_HOUSE_YRS  Risk_Flag  \n",
       "0       Madhya_Pradesh                3                 13          0  \n",
       "1          Maharashtra                9                 13          0  \n",
       "2               Kerala                4                 10          0  \n",
       "3               Odisha                2                 12          1  \n",
       "4           Tamil_Nadu                3                 14          1  \n",
       "...                ...              ...                ...        ...  \n",
       "251995     West_Bengal                6                 11          0  \n",
       "251996  Madhya_Pradesh                6                 11          0  \n",
       "251997     Maharashtra                7                 12          0  \n",
       "251998      Puducherry                0                 10          0  \n",
       "251999      Tamil_Nadu                7                 11          0  \n",
       "\n",
       "[252000 rows x 13 columns]"
      ]
     },
     "execution_count": 4,
     "metadata": {},
     "output_type": "execute_result"
    }
   ],
   "source": [
    "import pandas as pd\n",
    "df_train = pd.read_csv(\"Training Data.csv\")\n",
    "df_train"
   ]
  },
  {
   "cell_type": "code",
   "execution_count": 5,
   "id": "12907578-d0da-47f3-8c9a-043addbbb1db",
   "metadata": {},
   "outputs": [
    {
     "data": {
      "text/html": [
       "<div>\n",
       "<style scoped>\n",
       "    .dataframe tbody tr th:only-of-type {\n",
       "        vertical-align: middle;\n",
       "    }\n",
       "\n",
       "    .dataframe tbody tr th {\n",
       "        vertical-align: top;\n",
       "    }\n",
       "\n",
       "    .dataframe thead th {\n",
       "        text-align: right;\n",
       "    }\n",
       "</style>\n",
       "<table border=\"1\" class=\"dataframe\">\n",
       "  <thead>\n",
       "    <tr style=\"text-align: right;\">\n",
       "      <th></th>\n",
       "      <th>ID</th>\n",
       "      <th>Income</th>\n",
       "      <th>Age</th>\n",
       "      <th>Experience</th>\n",
       "      <th>Married/Single</th>\n",
       "      <th>House_Ownership</th>\n",
       "      <th>Car_Ownership</th>\n",
       "      <th>Profession</th>\n",
       "      <th>CITY</th>\n",
       "      <th>STATE</th>\n",
       "      <th>CURRENT_JOB_YRS</th>\n",
       "      <th>CURRENT_HOUSE_YRS</th>\n",
       "    </tr>\n",
       "  </thead>\n",
       "  <tbody>\n",
       "    <tr>\n",
       "      <th>0</th>\n",
       "      <td>1</td>\n",
       "      <td>7393090</td>\n",
       "      <td>59</td>\n",
       "      <td>19</td>\n",
       "      <td>single</td>\n",
       "      <td>rented</td>\n",
       "      <td>no</td>\n",
       "      <td>Geologist</td>\n",
       "      <td>Malda</td>\n",
       "      <td>West Bengal</td>\n",
       "      <td>4</td>\n",
       "      <td>13</td>\n",
       "    </tr>\n",
       "    <tr>\n",
       "      <th>1</th>\n",
       "      <td>2</td>\n",
       "      <td>1215004</td>\n",
       "      <td>25</td>\n",
       "      <td>5</td>\n",
       "      <td>single</td>\n",
       "      <td>rented</td>\n",
       "      <td>no</td>\n",
       "      <td>Firefighter</td>\n",
       "      <td>Jalna</td>\n",
       "      <td>Maharashtra</td>\n",
       "      <td>5</td>\n",
       "      <td>10</td>\n",
       "    </tr>\n",
       "    <tr>\n",
       "      <th>2</th>\n",
       "      <td>3</td>\n",
       "      <td>8901342</td>\n",
       "      <td>50</td>\n",
       "      <td>12</td>\n",
       "      <td>single</td>\n",
       "      <td>rented</td>\n",
       "      <td>no</td>\n",
       "      <td>Lawyer</td>\n",
       "      <td>Thane</td>\n",
       "      <td>Maharashtra</td>\n",
       "      <td>9</td>\n",
       "      <td>14</td>\n",
       "    </tr>\n",
       "    <tr>\n",
       "      <th>3</th>\n",
       "      <td>4</td>\n",
       "      <td>1944421</td>\n",
       "      <td>49</td>\n",
       "      <td>9</td>\n",
       "      <td>married</td>\n",
       "      <td>rented</td>\n",
       "      <td>yes</td>\n",
       "      <td>Analyst</td>\n",
       "      <td>Latur</td>\n",
       "      <td>Maharashtra</td>\n",
       "      <td>3</td>\n",
       "      <td>12</td>\n",
       "    </tr>\n",
       "    <tr>\n",
       "      <th>4</th>\n",
       "      <td>5</td>\n",
       "      <td>13429</td>\n",
       "      <td>25</td>\n",
       "      <td>18</td>\n",
       "      <td>single</td>\n",
       "      <td>rented</td>\n",
       "      <td>yes</td>\n",
       "      <td>Comedian</td>\n",
       "      <td>Berhampore</td>\n",
       "      <td>West Bengal</td>\n",
       "      <td>13</td>\n",
       "      <td>11</td>\n",
       "    </tr>\n",
       "    <tr>\n",
       "      <th>...</th>\n",
       "      <td>...</td>\n",
       "      <td>...</td>\n",
       "      <td>...</td>\n",
       "      <td>...</td>\n",
       "      <td>...</td>\n",
       "      <td>...</td>\n",
       "      <td>...</td>\n",
       "      <td>...</td>\n",
       "      <td>...</td>\n",
       "      <td>...</td>\n",
       "      <td>...</td>\n",
       "      <td>...</td>\n",
       "    </tr>\n",
       "    <tr>\n",
       "      <th>27995</th>\n",
       "      <td>27996</td>\n",
       "      <td>9955481</td>\n",
       "      <td>57</td>\n",
       "      <td>13</td>\n",
       "      <td>single</td>\n",
       "      <td>rented</td>\n",
       "      <td>no</td>\n",
       "      <td>Statistician</td>\n",
       "      <td>Eluru[25]</td>\n",
       "      <td>Andhra Pradesh</td>\n",
       "      <td>5</td>\n",
       "      <td>10</td>\n",
       "    </tr>\n",
       "    <tr>\n",
       "      <th>27996</th>\n",
       "      <td>27997</td>\n",
       "      <td>2917765</td>\n",
       "      <td>47</td>\n",
       "      <td>9</td>\n",
       "      <td>single</td>\n",
       "      <td>rented</td>\n",
       "      <td>no</td>\n",
       "      <td>Technical writer</td>\n",
       "      <td>Ratlam</td>\n",
       "      <td>Madhya Pradesh</td>\n",
       "      <td>9</td>\n",
       "      <td>14</td>\n",
       "    </tr>\n",
       "    <tr>\n",
       "      <th>27997</th>\n",
       "      <td>27998</td>\n",
       "      <td>8082415</td>\n",
       "      <td>24</td>\n",
       "      <td>5</td>\n",
       "      <td>single</td>\n",
       "      <td>rented</td>\n",
       "      <td>no</td>\n",
       "      <td>Lawyer</td>\n",
       "      <td>Mira-Bhayandar</td>\n",
       "      <td>Maharashtra</td>\n",
       "      <td>4</td>\n",
       "      <td>13</td>\n",
       "    </tr>\n",
       "    <tr>\n",
       "      <th>27998</th>\n",
       "      <td>27999</td>\n",
       "      <td>9474180</td>\n",
       "      <td>51</td>\n",
       "      <td>13</td>\n",
       "      <td>single</td>\n",
       "      <td>rented</td>\n",
       "      <td>yes</td>\n",
       "      <td>Chartered Accountant</td>\n",
       "      <td>Bhilai</td>\n",
       "      <td>Chhattisgarh</td>\n",
       "      <td>13</td>\n",
       "      <td>14</td>\n",
       "    </tr>\n",
       "    <tr>\n",
       "      <th>27999</th>\n",
       "      <td>28000</td>\n",
       "      <td>9250350</td>\n",
       "      <td>42</td>\n",
       "      <td>9</td>\n",
       "      <td>single</td>\n",
       "      <td>rented</td>\n",
       "      <td>no</td>\n",
       "      <td>Chef</td>\n",
       "      <td>Navi Mumbai</td>\n",
       "      <td>Maharashtra</td>\n",
       "      <td>4</td>\n",
       "      <td>10</td>\n",
       "    </tr>\n",
       "  </tbody>\n",
       "</table>\n",
       "<p>28000 rows × 12 columns</p>\n",
       "</div>"
      ],
      "text/plain": [
       "          ID   Income  Age  Experience Married/Single House_Ownership  \\\n",
       "0          1  7393090   59          19         single          rented   \n",
       "1          2  1215004   25           5         single          rented   \n",
       "2          3  8901342   50          12         single          rented   \n",
       "3          4  1944421   49           9        married          rented   \n",
       "4          5    13429   25          18         single          rented   \n",
       "...      ...      ...  ...         ...            ...             ...   \n",
       "27995  27996  9955481   57          13         single          rented   \n",
       "27996  27997  2917765   47           9         single          rented   \n",
       "27997  27998  8082415   24           5         single          rented   \n",
       "27998  27999  9474180   51          13         single          rented   \n",
       "27999  28000  9250350   42           9         single          rented   \n",
       "\n",
       "      Car_Ownership            Profession            CITY           STATE  \\\n",
       "0                no             Geologist           Malda     West Bengal   \n",
       "1                no           Firefighter           Jalna     Maharashtra   \n",
       "2                no                Lawyer           Thane     Maharashtra   \n",
       "3               yes               Analyst           Latur     Maharashtra   \n",
       "4               yes              Comedian      Berhampore     West Bengal   \n",
       "...             ...                   ...             ...             ...   \n",
       "27995            no          Statistician       Eluru[25]  Andhra Pradesh   \n",
       "27996            no      Technical writer          Ratlam  Madhya Pradesh   \n",
       "27997            no                Lawyer  Mira-Bhayandar     Maharashtra   \n",
       "27998           yes  Chartered Accountant          Bhilai    Chhattisgarh   \n",
       "27999            no                  Chef     Navi Mumbai     Maharashtra   \n",
       "\n",
       "       CURRENT_JOB_YRS  CURRENT_HOUSE_YRS  \n",
       "0                    4                 13  \n",
       "1                    5                 10  \n",
       "2                    9                 14  \n",
       "3                    3                 12  \n",
       "4                   13                 11  \n",
       "...                ...                ...  \n",
       "27995                5                 10  \n",
       "27996                9                 14  \n",
       "27997                4                 13  \n",
       "27998               13                 14  \n",
       "27999                4                 10  \n",
       "\n",
       "[28000 rows x 12 columns]"
      ]
     },
     "execution_count": 5,
     "metadata": {},
     "output_type": "execute_result"
    }
   ],
   "source": [
    "df_test = pd.read_csv(\"Test Data.csv\")\n",
    "df_test"
   ]
  },
  {
   "cell_type": "code",
   "execution_count": 6,
   "id": "13073581-c642-4dfb-97e7-9c0b00cc64ee",
   "metadata": {
    "tags": []
   },
   "outputs": [
    {
     "data": {
      "text/html": [
       "<div>\n",
       "<style scoped>\n",
       "    .dataframe tbody tr th:only-of-type {\n",
       "        vertical-align: middle;\n",
       "    }\n",
       "\n",
       "    .dataframe tbody tr th {\n",
       "        vertical-align: top;\n",
       "    }\n",
       "\n",
       "    .dataframe thead th {\n",
       "        text-align: right;\n",
       "    }\n",
       "</style>\n",
       "<table border=\"1\" class=\"dataframe\">\n",
       "  <thead>\n",
       "    <tr style=\"text-align: right;\">\n",
       "      <th></th>\n",
       "      <th>id</th>\n",
       "      <th>risk_flag</th>\n",
       "    </tr>\n",
       "  </thead>\n",
       "  <tbody>\n",
       "    <tr>\n",
       "      <th>0</th>\n",
       "      <td>1</td>\n",
       "      <td>0</td>\n",
       "    </tr>\n",
       "    <tr>\n",
       "      <th>1</th>\n",
       "      <td>2</td>\n",
       "      <td>0</td>\n",
       "    </tr>\n",
       "    <tr>\n",
       "      <th>2</th>\n",
       "      <td>3</td>\n",
       "      <td>1</td>\n",
       "    </tr>\n",
       "    <tr>\n",
       "      <th>3</th>\n",
       "      <td>4</td>\n",
       "      <td>0</td>\n",
       "    </tr>\n",
       "    <tr>\n",
       "      <th>4</th>\n",
       "      <td>5</td>\n",
       "      <td>0</td>\n",
       "    </tr>\n",
       "    <tr>\n",
       "      <th>...</th>\n",
       "      <td>...</td>\n",
       "      <td>...</td>\n",
       "    </tr>\n",
       "    <tr>\n",
       "      <th>27995</th>\n",
       "      <td>27996</td>\n",
       "      <td>0</td>\n",
       "    </tr>\n",
       "    <tr>\n",
       "      <th>27996</th>\n",
       "      <td>27997</td>\n",
       "      <td>1</td>\n",
       "    </tr>\n",
       "    <tr>\n",
       "      <th>27997</th>\n",
       "      <td>27998</td>\n",
       "      <td>0</td>\n",
       "    </tr>\n",
       "    <tr>\n",
       "      <th>27998</th>\n",
       "      <td>27999</td>\n",
       "      <td>0</td>\n",
       "    </tr>\n",
       "    <tr>\n",
       "      <th>27999</th>\n",
       "      <td>28000</td>\n",
       "      <td>0</td>\n",
       "    </tr>\n",
       "  </tbody>\n",
       "</table>\n",
       "<p>28000 rows × 2 columns</p>\n",
       "</div>"
      ],
      "text/plain": [
       "          id  risk_flag\n",
       "0          1          0\n",
       "1          2          0\n",
       "2          3          1\n",
       "3          4          0\n",
       "4          5          0\n",
       "...      ...        ...\n",
       "27995  27996          0\n",
       "27996  27997          1\n",
       "27997  27998          0\n",
       "27998  27999          0\n",
       "27999  28000          0\n",
       "\n",
       "[28000 rows x 2 columns]"
      ]
     },
     "execution_count": 6,
     "metadata": {},
     "output_type": "execute_result"
    }
   ],
   "source": [
    "df_pred = pd.read_csv(\"Sample Prediction Dataset.csv\")\n",
    "df_pred"
   ]
  },
  {
   "cell_type": "markdown",
   "id": "5dc8b6f1-e314-4fa1-a07d-2e9e613ec8af",
   "metadata": {
    "tags": [
     "TODO"
    ]
   },
   "source": [
    "## Correlation\n",
    "Testing if any feature is correlated with the labels (Risk_Flag). Some of the features have categorical data, so I looked up a way to calculate the correlation of categorical data."
   ]
  },
  {
   "cell_type": "code",
   "execution_count": 7,
   "id": "75c198a4-ca9d-4233-ae80-f58d8bc32338",
   "metadata": {},
   "outputs": [
    {
     "name": "stdout",
     "output_type": "stream",
     "text": [
      "<class 'pandas.core.frame.DataFrame'>\n",
      "RangeIndex: 252000 entries, 0 to 251999\n",
      "Data columns (total 13 columns):\n",
      " #   Column             Non-Null Count   Dtype \n",
      "---  ------             --------------   ----- \n",
      " 0   Id                 252000 non-null  int64 \n",
      " 1   Income             252000 non-null  int64 \n",
      " 2   Age                252000 non-null  int64 \n",
      " 3   Experience         252000 non-null  int64 \n",
      " 4   Married/Single     252000 non-null  object\n",
      " 5   House_Ownership    252000 non-null  object\n",
      " 6   Car_Ownership      252000 non-null  object\n",
      " 7   Profession         252000 non-null  object\n",
      " 8   CITY               252000 non-null  object\n",
      " 9   STATE              252000 non-null  object\n",
      " 10  CURRENT_JOB_YRS    252000 non-null  int64 \n",
      " 11  CURRENT_HOUSE_YRS  252000 non-null  int64 \n",
      " 12  Risk_Flag          252000 non-null  int64 \n",
      "dtypes: int64(7), object(6)\n",
      "memory usage: 25.0+ MB\n"
     ]
    }
   ],
   "source": [
    "df_train.info()"
   ]
  },
  {
   "cell_type": "code",
   "execution_count": 8,
   "id": "f966a245-6b33-4178-a3da-d4475ae125b6",
   "metadata": {},
   "outputs": [],
   "source": [
    "import scipy.stats as ss\n",
    "import numpy as np\n",
    "\n",
    "def cramers_v(confusion_matrix):\n",
    "    \"\"\"\n",
    "    Source: https://stackoverflow.com/questions/46498455/categorical-features-correlation/46498792#46498792\n",
    "    \"\"\"\n",
    "    \n",
    "    chi2 = ss.chi2_contingency(confusion_matrix)[0]\n",
    "    n = confusion_matrix.sum()\n",
    "    phi2 = chi2 / n\n",
    "    r, k = confusion_matrix.shape\n",
    "    phi2corr = max(0, phi2 - ((k-1)*(r-1))/(n-1))\n",
    "    rcorr = r - ((r-1)**2)/(n-1)\n",
    "    kcorr = k - ((k-1)**2)/(n-1)\n",
    "    return np.sqrt(phi2corr / min((kcorr-1), (rcorr-1)))"
   ]
  },
  {
   "cell_type": "code",
   "execution_count": 9,
   "id": "de64c4f9-20dd-4807-8f97-02df433dfe13",
   "metadata": {},
   "outputs": [
    {
     "data": {
      "text/plain": [
       "[('Income', 0.0030911681222762564),\n",
       " ('CURRENT_HOUSE_YRS', 0.004375163077682079),\n",
       " ('CURRENT_JOB_YRS', 0.01694158205214165),\n",
       " ('Married/Single', 0.020977357668165247),\n",
       " ('Age', 0.021809276050749886),\n",
       " ('Car_Ownership', 0.02393976513093639),\n",
       " ('House_Ownership', 0.02679951667334829),\n",
       " ('Id', 0.032153499869005515),\n",
       " ('Experience', 0.03452261289076055),\n",
       " ('Profession', 0.047287043386878704),\n",
       " ('STATE', 0.05290750721343328),\n",
       " ('CITY', 0.13954477449706917),\n",
       " ('Risk_Flag', 1.0)]"
      ]
     },
     "execution_count": 9,
     "metadata": {},
     "output_type": "execute_result"
    }
   ],
   "source": [
    "categorical_data = [\"Married/Single\", \"House_Ownership\", \"Car_Ownership\", \"Profession\", \"CITY\", \"STATE\"]\n",
    "\n",
    "corr = {}\n",
    "for col_name in df_train.columns:\n",
    "    if col_name in categorical_data:\n",
    "        confusion_matrix = pd.crosstab(df_train[col_name], df_train[\"Risk_Flag\"])\n",
    "        corr[col_name] = abs(cramers_v(confusion_matrix.values))\n",
    "    else:\n",
    "        corr[col_name] = abs(df_train.corr()[col_name][\"Risk_Flag\"])\n",
    "        \n",
    "sorted(corr.items(), key=lambda x: x[1])"
   ]
  },
  {
   "cell_type": "markdown",
   "id": "aadb738a-59b8-48ea-93eb-f38ff4bd6ed0",
   "metadata": {},
   "source": [
    "The features by themselves are not correlated with the labels."
   ]
  },
  {
   "cell_type": "markdown",
   "id": "dc5629e6-4275-4154-9dba-6f96f02d3dff",
   "metadata": {},
   "source": [
    "## Preprocessing the data"
   ]
  },
  {
   "cell_type": "code",
   "execution_count": 10,
   "id": "59310e99-11b8-4d06-a134-f244bbf2e77d",
   "metadata": {},
   "outputs": [
    {
     "data": {
      "text/plain": [
       "{'Married/Single': Index(['married', 'single'], dtype='object'),\n",
       " 'House_Ownership': Index(['norent_noown', 'owned', 'rented'], dtype='object'),\n",
       " 'Car_Ownership': Index(['no', 'yes'], dtype='object'),\n",
       " 'Profession': Index(['Air_traffic_controller', 'Analyst', 'Architect', 'Army_officer',\n",
       "        'Artist', 'Aviator', 'Biomedical_Engineer', 'Chartered_Accountant',\n",
       "        'Chef', 'Chemical_engineer', 'Civil_engineer', 'Civil_servant',\n",
       "        'Comedian', 'Computer_hardware_engineer', 'Computer_operator',\n",
       "        'Consultant', 'Dentist', 'Design_Engineer', 'Designer', 'Drafter',\n",
       "        'Economist', 'Engineer', 'Fashion_Designer', 'Financial_Analyst',\n",
       "        'Firefighter', 'Flight_attendant', 'Geologist', 'Graphic_Designer',\n",
       "        'Hotel_Manager', 'Industrial_Engineer', 'Lawyer', 'Librarian',\n",
       "        'Magistrate', 'Mechanical_engineer', 'Microbiologist', 'Official',\n",
       "        'Petroleum_Engineer', 'Physician', 'Police_officer', 'Politician',\n",
       "        'Psychologist', 'Scientist', 'Secretary', 'Software_Developer',\n",
       "        'Statistician', 'Surgeon', 'Surveyor', 'Technical_writer', 'Technician',\n",
       "        'Technology_specialist', 'Web_designer'],\n",
       "       dtype='object'),\n",
       " 'CITY': Index(['Adoni', 'Agartala', 'Agra', 'Ahmedabad', 'Ahmednagar', 'Aizawl',\n",
       "        'Ajmer', 'Akola', 'Alappuzha', 'Aligarh',\n",
       "        ...\n",
       "        'Unnao', 'Vadodara', 'Varanasi', 'Vasai-Virar', 'Vellore',\n",
       "        'Vijayanagaram', 'Vijayawada', 'Visakhapatnam[4]', 'Warangal[11][12]',\n",
       "        'Yamunanagar'],\n",
       "       dtype='object', length=317),\n",
       " 'STATE': Index(['Andhra_Pradesh', 'Assam', 'Bihar', 'Chandigarh', 'Chhattisgarh',\n",
       "        'Delhi', 'Gujarat', 'Haryana', 'Himachal_Pradesh', 'Jammu_and_Kashmir',\n",
       "        'Jharkhand', 'Karnataka', 'Kerala', 'Madhya_Pradesh', 'Maharashtra',\n",
       "        'Manipur', 'Mizoram', 'Odisha', 'Puducherry', 'Punjab', 'Rajasthan',\n",
       "        'Sikkim', 'Tamil_Nadu', 'Telangana', 'Tripura', 'Uttar_Pradesh',\n",
       "        'Uttar_Pradesh[5]', 'Uttarakhand', 'West_Bengal'],\n",
       "       dtype='object')}"
      ]
     },
     "execution_count": 10,
     "metadata": {},
     "output_type": "execute_result"
    }
   ],
   "source": [
    "values = dict()\n",
    "for col_name in categorical_data:\n",
    "    values[col_name] = pd.Categorical(df_train[col_name]).categories\n",
    "values"
   ]
  },
  {
   "cell_type": "code",
   "execution_count": 11,
   "id": "427a5f80-84eb-4d81-8baa-40f24f644ba4",
   "metadata": {},
   "outputs": [],
   "source": [
    "def preprocess(df):\n",
    "    df_clean = df\n",
    "    \n",
    "    # removing features with categorical data, row ids and the labels\n",
    "    drop_filter = [\"CITY\", \"STATE\", \"Profession\", \"Id\", \"ID\", \"Risk_Flag\"]\n",
    "    \n",
    "    for col_name in drop_filter:\n",
    "        if col_name in df.columns:\n",
    "            df_clean = df_clean.drop(columns=col_name)\n",
    "    \n",
    "    df_clean[\"Married/Single\"] = df_clean[\"Married/Single\"].apply(lambda status: 1 if status == \"married\" else 0)\n",
    "    \n",
    "    ownership_to_id = {\"owned\": 1, \"rented\": 0, \"norent_noown\": -1}\n",
    "    df_clean[\"House_Ownership\"] = df_clean[\"House_Ownership\"].apply(lambda ownership: ownership_to_id[ownership])\n",
    "    \n",
    "    df_clean[\"Car_Ownership\"] = df_clean[\"Car_Ownership\"].apply(lambda ownership: 1 if ownership == \"yes\" else 0)\n",
    "    \n",
    "    return df_clean"
   ]
  },
  {
   "cell_type": "code",
   "execution_count": 12,
   "id": "f37f442c-b04c-4487-bd90-91e095565ccc",
   "metadata": {},
   "outputs": [
    {
     "data": {
      "text/html": [
       "<div>\n",
       "<style scoped>\n",
       "    .dataframe tbody tr th:only-of-type {\n",
       "        vertical-align: middle;\n",
       "    }\n",
       "\n",
       "    .dataframe tbody tr th {\n",
       "        vertical-align: top;\n",
       "    }\n",
       "\n",
       "    .dataframe thead th {\n",
       "        text-align: right;\n",
       "    }\n",
       "</style>\n",
       "<table border=\"1\" class=\"dataframe\">\n",
       "  <thead>\n",
       "    <tr style=\"text-align: right;\">\n",
       "      <th></th>\n",
       "      <th>Income</th>\n",
       "      <th>Age</th>\n",
       "      <th>Experience</th>\n",
       "      <th>Married/Single</th>\n",
       "      <th>House_Ownership</th>\n",
       "      <th>Car_Ownership</th>\n",
       "      <th>CURRENT_JOB_YRS</th>\n",
       "      <th>CURRENT_HOUSE_YRS</th>\n",
       "    </tr>\n",
       "  </thead>\n",
       "  <tbody>\n",
       "    <tr>\n",
       "      <th>0</th>\n",
       "      <td>1303834</td>\n",
       "      <td>23</td>\n",
       "      <td>3</td>\n",
       "      <td>0</td>\n",
       "      <td>0</td>\n",
       "      <td>0</td>\n",
       "      <td>3</td>\n",
       "      <td>13</td>\n",
       "    </tr>\n",
       "    <tr>\n",
       "      <th>1</th>\n",
       "      <td>7574516</td>\n",
       "      <td>40</td>\n",
       "      <td>10</td>\n",
       "      <td>0</td>\n",
       "      <td>0</td>\n",
       "      <td>0</td>\n",
       "      <td>9</td>\n",
       "      <td>13</td>\n",
       "    </tr>\n",
       "    <tr>\n",
       "      <th>2</th>\n",
       "      <td>3991815</td>\n",
       "      <td>66</td>\n",
       "      <td>4</td>\n",
       "      <td>1</td>\n",
       "      <td>0</td>\n",
       "      <td>0</td>\n",
       "      <td>4</td>\n",
       "      <td>10</td>\n",
       "    </tr>\n",
       "    <tr>\n",
       "      <th>3</th>\n",
       "      <td>6256451</td>\n",
       "      <td>41</td>\n",
       "      <td>2</td>\n",
       "      <td>0</td>\n",
       "      <td>0</td>\n",
       "      <td>1</td>\n",
       "      <td>2</td>\n",
       "      <td>12</td>\n",
       "    </tr>\n",
       "    <tr>\n",
       "      <th>4</th>\n",
       "      <td>5768871</td>\n",
       "      <td>47</td>\n",
       "      <td>11</td>\n",
       "      <td>0</td>\n",
       "      <td>0</td>\n",
       "      <td>0</td>\n",
       "      <td>3</td>\n",
       "      <td>14</td>\n",
       "    </tr>\n",
       "    <tr>\n",
       "      <th>...</th>\n",
       "      <td>...</td>\n",
       "      <td>...</td>\n",
       "      <td>...</td>\n",
       "      <td>...</td>\n",
       "      <td>...</td>\n",
       "      <td>...</td>\n",
       "      <td>...</td>\n",
       "      <td>...</td>\n",
       "    </tr>\n",
       "    <tr>\n",
       "      <th>251995</th>\n",
       "      <td>8154883</td>\n",
       "      <td>43</td>\n",
       "      <td>13</td>\n",
       "      <td>0</td>\n",
       "      <td>0</td>\n",
       "      <td>0</td>\n",
       "      <td>6</td>\n",
       "      <td>11</td>\n",
       "    </tr>\n",
       "    <tr>\n",
       "      <th>251996</th>\n",
       "      <td>2843572</td>\n",
       "      <td>26</td>\n",
       "      <td>10</td>\n",
       "      <td>0</td>\n",
       "      <td>0</td>\n",
       "      <td>0</td>\n",
       "      <td>6</td>\n",
       "      <td>11</td>\n",
       "    </tr>\n",
       "    <tr>\n",
       "      <th>251997</th>\n",
       "      <td>4522448</td>\n",
       "      <td>46</td>\n",
       "      <td>7</td>\n",
       "      <td>0</td>\n",
       "      <td>0</td>\n",
       "      <td>0</td>\n",
       "      <td>7</td>\n",
       "      <td>12</td>\n",
       "    </tr>\n",
       "    <tr>\n",
       "      <th>251998</th>\n",
       "      <td>6507128</td>\n",
       "      <td>45</td>\n",
       "      <td>0</td>\n",
       "      <td>0</td>\n",
       "      <td>0</td>\n",
       "      <td>0</td>\n",
       "      <td>0</td>\n",
       "      <td>10</td>\n",
       "    </tr>\n",
       "    <tr>\n",
       "      <th>251999</th>\n",
       "      <td>9070230</td>\n",
       "      <td>70</td>\n",
       "      <td>17</td>\n",
       "      <td>0</td>\n",
       "      <td>0</td>\n",
       "      <td>0</td>\n",
       "      <td>7</td>\n",
       "      <td>11</td>\n",
       "    </tr>\n",
       "  </tbody>\n",
       "</table>\n",
       "<p>252000 rows × 8 columns</p>\n",
       "</div>"
      ],
      "text/plain": [
       "         Income  Age  Experience  Married/Single  House_Ownership  \\\n",
       "0       1303834   23           3               0                0   \n",
       "1       7574516   40          10               0                0   \n",
       "2       3991815   66           4               1                0   \n",
       "3       6256451   41           2               0                0   \n",
       "4       5768871   47          11               0                0   \n",
       "...         ...  ...         ...             ...              ...   \n",
       "251995  8154883   43          13               0                0   \n",
       "251996  2843572   26          10               0                0   \n",
       "251997  4522448   46           7               0                0   \n",
       "251998  6507128   45           0               0                0   \n",
       "251999  9070230   70          17               0                0   \n",
       "\n",
       "        Car_Ownership  CURRENT_JOB_YRS  CURRENT_HOUSE_YRS  \n",
       "0                   0                3                 13  \n",
       "1                   0                9                 13  \n",
       "2                   0                4                 10  \n",
       "3                   1                2                 12  \n",
       "4                   0                3                 14  \n",
       "...               ...              ...                ...  \n",
       "251995              0                6                 11  \n",
       "251996              0                6                 11  \n",
       "251997              0                7                 12  \n",
       "251998              0                0                 10  \n",
       "251999              0                7                 11  \n",
       "\n",
       "[252000 rows x 8 columns]"
      ]
     },
     "execution_count": 12,
     "metadata": {},
     "output_type": "execute_result"
    }
   ],
   "source": [
    "x_train = preprocess(df_train)\n",
    "x_train"
   ]
  },
  {
   "cell_type": "code",
   "execution_count": 13,
   "id": "608199bc-a093-4b17-92d7-68956d1a60c7",
   "metadata": {},
   "outputs": [
    {
     "data": {
      "text/html": [
       "<div>\n",
       "<style scoped>\n",
       "    .dataframe tbody tr th:only-of-type {\n",
       "        vertical-align: middle;\n",
       "    }\n",
       "\n",
       "    .dataframe tbody tr th {\n",
       "        vertical-align: top;\n",
       "    }\n",
       "\n",
       "    .dataframe thead th {\n",
       "        text-align: right;\n",
       "    }\n",
       "</style>\n",
       "<table border=\"1\" class=\"dataframe\">\n",
       "  <thead>\n",
       "    <tr style=\"text-align: right;\">\n",
       "      <th></th>\n",
       "      <th>Income</th>\n",
       "      <th>Age</th>\n",
       "      <th>Experience</th>\n",
       "      <th>Married/Single</th>\n",
       "      <th>House_Ownership</th>\n",
       "      <th>Car_Ownership</th>\n",
       "      <th>CURRENT_JOB_YRS</th>\n",
       "      <th>CURRENT_HOUSE_YRS</th>\n",
       "    </tr>\n",
       "  </thead>\n",
       "  <tbody>\n",
       "    <tr>\n",
       "      <th>0</th>\n",
       "      <td>7393090</td>\n",
       "      <td>59</td>\n",
       "      <td>19</td>\n",
       "      <td>0</td>\n",
       "      <td>0</td>\n",
       "      <td>0</td>\n",
       "      <td>4</td>\n",
       "      <td>13</td>\n",
       "    </tr>\n",
       "    <tr>\n",
       "      <th>1</th>\n",
       "      <td>1215004</td>\n",
       "      <td>25</td>\n",
       "      <td>5</td>\n",
       "      <td>0</td>\n",
       "      <td>0</td>\n",
       "      <td>0</td>\n",
       "      <td>5</td>\n",
       "      <td>10</td>\n",
       "    </tr>\n",
       "    <tr>\n",
       "      <th>2</th>\n",
       "      <td>8901342</td>\n",
       "      <td>50</td>\n",
       "      <td>12</td>\n",
       "      <td>0</td>\n",
       "      <td>0</td>\n",
       "      <td>0</td>\n",
       "      <td>9</td>\n",
       "      <td>14</td>\n",
       "    </tr>\n",
       "    <tr>\n",
       "      <th>3</th>\n",
       "      <td>1944421</td>\n",
       "      <td>49</td>\n",
       "      <td>9</td>\n",
       "      <td>1</td>\n",
       "      <td>0</td>\n",
       "      <td>1</td>\n",
       "      <td>3</td>\n",
       "      <td>12</td>\n",
       "    </tr>\n",
       "    <tr>\n",
       "      <th>4</th>\n",
       "      <td>13429</td>\n",
       "      <td>25</td>\n",
       "      <td>18</td>\n",
       "      <td>0</td>\n",
       "      <td>0</td>\n",
       "      <td>1</td>\n",
       "      <td>13</td>\n",
       "      <td>11</td>\n",
       "    </tr>\n",
       "    <tr>\n",
       "      <th>...</th>\n",
       "      <td>...</td>\n",
       "      <td>...</td>\n",
       "      <td>...</td>\n",
       "      <td>...</td>\n",
       "      <td>...</td>\n",
       "      <td>...</td>\n",
       "      <td>...</td>\n",
       "      <td>...</td>\n",
       "    </tr>\n",
       "    <tr>\n",
       "      <th>27995</th>\n",
       "      <td>9955481</td>\n",
       "      <td>57</td>\n",
       "      <td>13</td>\n",
       "      <td>0</td>\n",
       "      <td>0</td>\n",
       "      <td>0</td>\n",
       "      <td>5</td>\n",
       "      <td>10</td>\n",
       "    </tr>\n",
       "    <tr>\n",
       "      <th>27996</th>\n",
       "      <td>2917765</td>\n",
       "      <td>47</td>\n",
       "      <td>9</td>\n",
       "      <td>0</td>\n",
       "      <td>0</td>\n",
       "      <td>0</td>\n",
       "      <td>9</td>\n",
       "      <td>14</td>\n",
       "    </tr>\n",
       "    <tr>\n",
       "      <th>27997</th>\n",
       "      <td>8082415</td>\n",
       "      <td>24</td>\n",
       "      <td>5</td>\n",
       "      <td>0</td>\n",
       "      <td>0</td>\n",
       "      <td>0</td>\n",
       "      <td>4</td>\n",
       "      <td>13</td>\n",
       "    </tr>\n",
       "    <tr>\n",
       "      <th>27998</th>\n",
       "      <td>9474180</td>\n",
       "      <td>51</td>\n",
       "      <td>13</td>\n",
       "      <td>0</td>\n",
       "      <td>0</td>\n",
       "      <td>1</td>\n",
       "      <td>13</td>\n",
       "      <td>14</td>\n",
       "    </tr>\n",
       "    <tr>\n",
       "      <th>27999</th>\n",
       "      <td>9250350</td>\n",
       "      <td>42</td>\n",
       "      <td>9</td>\n",
       "      <td>0</td>\n",
       "      <td>0</td>\n",
       "      <td>0</td>\n",
       "      <td>4</td>\n",
       "      <td>10</td>\n",
       "    </tr>\n",
       "  </tbody>\n",
       "</table>\n",
       "<p>28000 rows × 8 columns</p>\n",
       "</div>"
      ],
      "text/plain": [
       "        Income  Age  Experience  Married/Single  House_Ownership  \\\n",
       "0      7393090   59          19               0                0   \n",
       "1      1215004   25           5               0                0   \n",
       "2      8901342   50          12               0                0   \n",
       "3      1944421   49           9               1                0   \n",
       "4        13429   25          18               0                0   \n",
       "...        ...  ...         ...             ...              ...   \n",
       "27995  9955481   57          13               0                0   \n",
       "27996  2917765   47           9               0                0   \n",
       "27997  8082415   24           5               0                0   \n",
       "27998  9474180   51          13               0                0   \n",
       "27999  9250350   42           9               0                0   \n",
       "\n",
       "       Car_Ownership  CURRENT_JOB_YRS  CURRENT_HOUSE_YRS  \n",
       "0                  0                4                 13  \n",
       "1                  0                5                 10  \n",
       "2                  0                9                 14  \n",
       "3                  1                3                 12  \n",
       "4                  1               13                 11  \n",
       "...              ...              ...                ...  \n",
       "27995              0                5                 10  \n",
       "27996              0                9                 14  \n",
       "27997              0                4                 13  \n",
       "27998              1               13                 14  \n",
       "27999              0                4                 10  \n",
       "\n",
       "[28000 rows x 8 columns]"
      ]
     },
     "execution_count": 13,
     "metadata": {},
     "output_type": "execute_result"
    }
   ],
   "source": [
    "x_test = preprocess(df_test)\n",
    "x_test"
   ]
  },
  {
   "cell_type": "code",
   "execution_count": 14,
   "id": "1d64d810-21cf-430f-9020-8c99aaab9d7f",
   "metadata": {},
   "outputs": [],
   "source": [
    "import matplotlib.pyplot as plt\n",
    "import seaborn as sns\n",
    "import sklearn\n",
    "from sklearn import preprocessing\n",
    "import keras"
   ]
  },
  {
   "cell_type": "code",
   "execution_count": 15,
   "id": "9a455e4d-8fb8-4ee9-ac0c-d36808a65bf0",
   "metadata": {},
   "outputs": [],
   "source": [
    "scaler = sklearn.preprocessing.StandardScaler()\n",
    "scaler.fit(x_train)\n",
    "x_train = scaler.transform(x_train)\n",
    "x_test = scaler.transform(x_test)"
   ]
  },
  {
   "cell_type": "code",
   "execution_count": 16,
   "id": "672ae415-0479-42d2-a39b-ffc9fa3ec07a",
   "metadata": {},
   "outputs": [],
   "source": [
    "y_train = df_train[\"Risk_Flag\"]\n",
    "y_test = df_pred[\"risk_flag\"]"
   ]
  },
  {
   "cell_type": "markdown",
   "id": "522dacb7-b98d-4a34-a4aa-a556900b5a73",
   "metadata": {},
   "source": [
    "## Machine Learning Models"
   ]
  },
  {
   "cell_type": "markdown",
   "id": "ae75aca5-1058-4823-b051-1c74dba0d7b1",
   "metadata": {},
   "source": [
    "### Logistic Regression"
   ]
  },
  {
   "cell_type": "code",
   "execution_count": 17,
   "id": "17dcc04b-a6ff-43b1-9975-6781cfa38ef9",
   "metadata": {},
   "outputs": [],
   "source": [
    "from sklearn.linear_model import LogisticRegression"
   ]
  },
  {
   "cell_type": "code",
   "execution_count": 18,
   "id": "b74387ea-50f0-4ae8-a82a-91c650451f04",
   "metadata": {},
   "outputs": [
    {
     "data": {
      "text/plain": [
       "LogisticRegression(multi_class='multinomial', random_state=3754)"
      ]
     },
     "execution_count": 18,
     "metadata": {},
     "output_type": "execute_result"
    }
   ],
   "source": [
    "logreg = LogisticRegression(random_state=3754, multi_class='multinomial')\n",
    "logreg.fit(x_train, y_train)"
   ]
  },
  {
   "cell_type": "code",
   "execution_count": 19,
   "id": "17b003b2-8f13-4fde-9430-3d888c705593",
   "metadata": {},
   "outputs": [],
   "source": [
    "y_pred = logreg.predict(x_test)"
   ]
  },
  {
   "cell_type": "code",
   "execution_count": 20,
   "id": "c387b2d6-9df4-4413-a3b3-46e9484dec9d",
   "metadata": {},
   "outputs": [],
   "source": [
    "from sklearn.metrics import accuracy_score"
   ]
  },
  {
   "cell_type": "code",
   "execution_count": 21,
   "id": "9ca58fde-84de-4883-a223-626ae6bef226",
   "metadata": {},
   "outputs": [
    {
     "data": {
      "text/plain": [
       "0.8716785714285714"
      ]
     },
     "execution_count": 21,
     "metadata": {},
     "output_type": "execute_result"
    }
   ],
   "source": [
    "accuracy_score(y_test, y_pred)"
   ]
  },
  {
   "cell_type": "code",
   "execution_count": 22,
   "id": "17d8deae-0885-40a6-924e-11c612758387",
   "metadata": {},
   "outputs": [
    {
     "data": {
      "text/plain": [
       "<AxesSubplot:>"
      ]
     },
     "execution_count": 22,
     "metadata": {},
     "output_type": "execute_result"
    },
    {
     "data": {
      "image/png": "[encoded data removed]",
      "text/plain": [
       "<Figure size 432x288 with 1 Axes>"
      ]
     },
     "metadata": {
      "needs_background": "light"
     },
     "output_type": "display_data"
    }
   ],
   "source": [
    "feat_names = [\"Income\", \"Age\", \"Experience\", \"Married/Single\", \"House_Ownership\", \"Car_Ownership\", \"CURRENT_JOB_YRS\", \"CURRENT_HOUSE_YRS\"]\n",
    "coefs_df = pd.DataFrame(logreg.coef_, columns=feat_names)\n",
    "coefs_df.T.plot.bar()"
   ]
  },
  {
   "cell_type": "markdown",
   "id": "aaf48d43-ec13-4525-a5c1-43617854e635",
   "metadata": {},
   "source": [
    "### Decision Tree"
   ]
  },
  {
   "cell_type": "code",
   "execution_count": 23,
   "id": "dd0c0433-c048-41c9-acd7-de5ce94dd199",
   "metadata": {},
   "outputs": [],
   "source": [
    "from sklearn.tree import DecisionTreeClassifier"
   ]
  },
  {
   "cell_type": "code",
   "execution_count": 24,
   "id": "b5d0ec0e-9a3b-407a-bf6e-105005e1929a",
   "metadata": {},
   "outputs": [
    {
     "data": {
      "text/plain": [
       "0.7701428571428571"
      ]
     },
     "execution_count": 24,
     "metadata": {},
     "output_type": "execute_result"
    }
   ],
   "source": [
    "tree = DecisionTreeClassifier()\n",
    "tree.fit(x_train, y_train)\n",
    "y_pred = tree.predict(x_test)\n",
    "accuracy_score(y_test, y_pred)"
   ]
  },
  {
   "cell_type": "code",
   "execution_count": 25,
   "id": "af20c723-3ff3-45c6-86b7-f63d6a4feacd",
   "metadata": {},
   "outputs": [
    {
     "data": {
      "text/plain": [
       "0.7719642857142858"
      ]
     },
     "execution_count": 25,
     "metadata": {},
     "output_type": "execute_result"
    }
   ],
   "source": [
    "tree = DecisionTreeClassifier(criterion=\"entropy\")\n",
    "tree.fit(x_train, y_train)\n",
    "y_pred = tree.predict(x_test)\n",
    "accuracy_score(y_test, y_pred)"
   ]
  },
  {
   "cell_type": "markdown",
   "id": "23a80b79-6b00-485c-8b3e-48ea205ed28b",
   "metadata": {},
   "source": [
    "### Random Forest"
   ]
  },
  {
   "cell_type": "code",
   "execution_count": 26,
   "id": "92479d85-de84-434e-9eb4-d0fee9d91ab8",
   "metadata": {},
   "outputs": [],
   "source": [
    "from sklearn.tree import plot_tree"
   ]
  },
  {
   "cell_type": "code",
   "execution_count": 27,
   "id": "40dddde7-8af3-4970-b537-cb703392003a",
   "metadata": {},
   "outputs": [],
   "source": [
    "from sklearn.ensemble import RandomForestClassifier"
   ]
  },
  {
   "cell_type": "code",
   "execution_count": 28,
   "id": "d35e24c7-c558-47a3-952a-067530d66c15",
   "metadata": {},
   "outputs": [
    {
     "data": {
      "text/plain": [
       "0.8716785714285714"
      ]
     },
     "execution_count": 28,
     "metadata": {},
     "output_type": "execute_result"
    }
   ],
   "source": [
    "rf = RandomForestClassifier(n_estimators=100, max_depth=2, random_state=3512)\n",
    "rf.fit(x_train, y_train)\n",
    "y_pred = rf.predict(x_test)\n",
    "accuracy_score(y_test, y_pred)"
   ]
  },
  {
   "cell_type": "code",
   "execution_count": 29,
   "id": "0f371ab8-dff2-45cf-9578-af5eb1412083",
   "metadata": {},
   "outputs": [
    {
     "data": {
      "text/plain": [
       "<AxesSubplot:>"
      ]
     },
     "execution_count": 29,
     "metadata": {},
     "output_type": "execute_result"
    },
    {
     "data": {
      "image/png": "[encoded data removed]",
      "text/plain": [
       "<Figure size 432x288 with 1 Axes>"
      ]
     },
     "metadata": {
      "needs_background": "light"
     },
     "output_type": "display_data"
    }
   ],
   "source": [
    "feat_names = [\"Income\", \"Age\", \"Experience\", \"Married/Single\", \"House_Ownership\", \"Car_Ownership\", \"CURRENT_JOB_YRS\", \"CURRENT_HOUSE_YRS\"]\n",
    "coefs_df = pd.DataFrame([rf.feature_importances_], columns=feat_names)\n",
    "coefs_df.T.plot.bar()"
   ]
  },
  {
   "cell_type": "markdown",
   "id": "1fa4db48-b9f3-4ff7-b77d-9f784b750fef",
   "metadata": {},
   "source": [
    "### Neural Network"
   ]
  },
  {
   "cell_type": "code",
   "execution_count": 30,
   "id": "b5649a33-7786-4835-a8f1-6a1a879d9264",
   "metadata": {},
   "outputs": [],
   "source": [
    "from keras.models import Sequential\n",
    "from keras.layers import Dense\n",
    "from keras.optimizers import SGD, Adam\n",
    "import tensorflow as tf\n",
    "from tensorflow.keras.utils import to_categorical"
   ]
  },
  {
   "cell_type": "code",
   "execution_count": 31,
   "id": "9506c12b-ec63-4fc9-92ab-cf7c27b0be07",
   "metadata": {},
   "outputs": [
    {
     "data": {
      "text/plain": [
       "0         0\n",
       "1         0\n",
       "2         0\n",
       "3         1\n",
       "4         1\n",
       "         ..\n",
       "251995    0\n",
       "251996    0\n",
       "251997    0\n",
       "251998    0\n",
       "251999    0\n",
       "Name: Risk_Flag, Length: 252000, dtype: int64"
      ]
     },
     "execution_count": 31,
     "metadata": {},
     "output_type": "execute_result"
    }
   ],
   "source": [
    "y_train"
   ]
  },
  {
   "cell_type": "code",
   "execution_count": 32,
   "id": "cfa2b01d-387a-4b56-9e1d-5623cce9112c",
   "metadata": {},
   "outputs": [],
   "source": [
    "y_train_cat = to_categorical(y_train)"
   ]
  },
  {
   "cell_type": "code",
   "execution_count": 33,
   "id": "495da6c8-5950-4299-b964-872dd1152962",
   "metadata": {},
   "outputs": [
    {
     "name": "stdout",
     "output_type": "stream",
     "text": [
      "Model: \"sequential\"\n",
      "_________________________________________________________________\n",
      "Layer (type)                 Output Shape              Param #   \n",
      "=================================================================\n",
      "dense (Dense)                (None, 2)                 18        \n",
      "=================================================================\n",
      "Total params: 18\n",
      "Trainable params: 18\n",
      "Non-trainable params: 0\n",
      "_________________________________________________________________\n"
     ]
    }
   ],
   "source": [
    "model = Sequential()\n",
    "model.add(Dense(units=2, activation=\"relu\", input_shape=x_train.shape[1:]))\n",
    "\n",
    "opt = Adam(learning_rate=0.001)\n",
    "model.compile(optimizer=opt, loss='categorical_crossentropy', metrics=['accuracy'])\n",
    "model.summary()"
   ]
  },
  {
   "cell_type": "code",
   "execution_count": 34,
   "id": "f255507e-65e4-4a07-9a91-ca42fe168d55",
   "metadata": {},
   "outputs": [
    {
     "name": "stdout",
     "output_type": "stream",
     "text": [
      "2016/2016 [==============================] - 9s 4ms/step - loss: nan - accuracy: 0.8923 - val_loss: nan - val_accuracy: 0.8153\n"
     ]
    }
   ],
   "source": [
    "h = model.fit(x_train, y_train_cat, epochs=1, validation_split=0.2, batch_size=100)"
   ]
  },
  {
   "cell_type": "code",
   "execution_count": 35,
   "id": "73e48dd3-3269-4cd5-92bd-025f7ee945d7",
   "metadata": {},
   "outputs": [],
   "source": [
    "y_pred = np.argmax(model.predict(x_test), axis=1)"
   ]
  },
  {
   "cell_type": "code",
   "execution_count": 36,
   "id": "54a2feb2-a99f-4251-8b10-c4cec67a7049",
   "metadata": {},
   "outputs": [
    {
     "data": {
      "text/plain": [
       "0.8716785714285714"
      ]
     },
     "execution_count": 36,
     "metadata": {},
     "output_type": "execute_result"
    }
   ],
   "source": [
    "accuracy_score(y_test, y_pred)"
   ]
  },
  {
   "cell_type": "markdown",
   "id": "c39e46d3-2bc6-4936-9320-f86a2a856a1c",
   "metadata": {},
   "source": [
    "## Summary\n",
    "Logistic Regression, Random Forest and Neural Network models got the same accuracy score, around 87%. This is possibly an optimum with the data provided (without categorical data)."
   ]
  }
 ],
 "metadata": {
  "kernelspec": {
   "display_name": "FDA",
   "language": "python",
   "name": "fda"
  },
  "language_info": {
   "codemirror_mode": {
    "name": "ipython",
    "version": 3
   },
   "file_extension": ".py",
   "mimetype": "text/x-python",
   "name": "python",
   "nbconvert_exporter": "python",
   "pygments_lexer": "ipython3",
   "version": "3.8.5"
  },
  "toc-autonumbering": false,
  "toc-showcode": false,
  "toc-showmarkdowntxt": false,
  "toc-showtags": true
 },
 "nbformat": 4,
 "nbformat_minor": 5
}
