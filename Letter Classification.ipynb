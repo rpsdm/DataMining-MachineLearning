{
 "cells": [
  {
   "cell_type": "markdown",
   "id": "f3138e49-80fb-44c2-9e80-df3c0d72a4df",
   "metadata": {},
   "source": [
    "# Letter Classification"
   ]
  },
  {
   "cell_type": "markdown",
   "id": "b60e557e-0017-4830-a137-85f4d9453f01",
   "metadata": {},
   "source": [
    "## References\n",
    "- [1] https://machinelearningmastery.com/how-to-develop-a-convolutional-neural-network-from-scratch-for-mnist-handwritten-digit-classification/\n",
    "- [2] https://data-flair.training/blogs/handwritten-character-recognition-neural-network/\n",
    "- [3] https://towardsdatascience.com/a-comprehensive-guide-to-convolutional-neural-networks-the-eli5-way-3bd2b1164a53\n",
    "- [4] https://towardsdatascience.com/wtf-is-image-classification-8e78a8235acb\n",
    "\n",
    "(07.04.2022 00:30)"
   ]
  },
  {
   "cell_type": "markdown",
   "id": "9cef60a7-b6a2-4218-8186-5798e109ee1a",
   "metadata": {},
   "source": [
    "## Downloading the neccessary packages"
   ]
  },
  {
   "cell_type": "code",
   "execution_count": null,
   "id": "eb80e5aa-0f08-43e5-b01f-16cffeaaf379",
   "metadata": {},
   "outputs": [],
   "source": [
    "pip install pandas numpy tensorflow keras sklearn matplotlib"
   ]
  },
  {
   "cell_type": "markdown",
   "id": "44589924-4148-4e78-817a-981658448ccd",
   "metadata": {},
   "source": [
    "## Data Preprocessing\n",
    "- Input: coloured images in a flattened form (25x25x3 -> 72220).\n",
    "- The data is already normalized, the values are between 0 and 1.\n",
    "- I choose to reshape X because I found that CNNs can classify letters quite well.\n",
    "- Working with pictures is also more understandable for humans."
   ]
  },
  {
   "cell_type": "code",
   "execution_count": 17,
   "id": "b2116b36",
   "metadata": {},
   "outputs": [],
   "source": [
    "import pandas as pd\n",
    "import numpy as np"
   ]
  },
  {
   "cell_type": "code",
   "execution_count": 18,
   "id": "fd068842",
   "metadata": {},
   "outputs": [],
   "source": [
    "X = pd.read_csv(\"X_train.csv\", index_col=0).values\n",
    "y = pd.read_csv(\"y_train.csv\", index_col=0).values"
   ]
  },
  {
   "cell_type": "code",
   "execution_count": 19,
   "id": "ae53bb5e",
   "metadata": {},
   "outputs": [],
   "source": [
    "X = X.reshape(77220, 25, 25, 3)"
   ]
  },
  {
   "cell_type": "code",
   "execution_count": 20,
   "id": "980cbe17",
   "metadata": {},
   "outputs": [],
   "source": [
    "shuffled = np.arange(len(X))\n",
    "np.random.shuffle(shuffled)\n",
    "X = X[shuffled]\n",
    "y = y[shuffled]"
   ]
  },
  {
   "cell_type": "code",
   "execution_count": 21,
   "id": "4ae1c947",
   "metadata": {},
   "outputs": [
    {
     "data": {
      "text/plain": [
       "61776"
      ]
     },
     "execution_count": 21,
     "metadata": {},
     "output_type": "execute_result"
    }
   ],
   "source": [
    "n_train = int(0.8*len(X))\n",
    "n_train"
   ]
  },
  {
   "cell_type": "code",
   "execution_count": 22,
   "id": "0057eab2",
   "metadata": {},
   "outputs": [],
   "source": [
    "x_train = X[:n_train]\n",
    "x_test = X[n_train:]\n",
    "y_train = y[:n_train]\n",
    "y_test = y[n_train:]"
   ]
  },
  {
   "cell_type": "code",
   "execution_count": 23,
   "id": "7068e975",
   "metadata": {},
   "outputs": [],
   "source": [
    "from tensorflow.keras.utils import to_categorical # NNs needs the labels in this form\n",
    "y_train_cat = to_categorical(y_train)\n",
    "y_test_cat = to_categorical(y_test)"
   ]
  },
  {
   "cell_type": "code",
   "execution_count": 24,
   "id": "6381b908",
   "metadata": {},
   "outputs": [],
   "source": [
    "n_classes=26 # letters in the alphabet"
   ]
  },
  {
   "cell_type": "markdown",
   "id": "8346a4de-eaaa-495d-89f0-e6f4ec087bb0",
   "metadata": {},
   "source": [
    "## Model Definition\n",
    "My model is based on references [1] and [2]. I tried to understand the decisions in these references and change the model in some parts. These original models were already very accurate, so most of my changes at the beginning only decreased the accuracy."
   ]
  },
  {
   "cell_type": "code",
   "execution_count": 42,
   "id": "ad4aa7e8",
   "metadata": {},
   "outputs": [],
   "source": [
    "from keras.models import Sequential\n",
    "from keras.layers import Dense\n",
    "from keras.layers import Conv2D, Flatten, MaxPool2D\n",
    "from keras.optimizers import SGD, Adam\n",
    "import tensorflow as tf"
   ]
  },
  {
   "cell_type": "code",
   "execution_count": 26,
   "id": "22281830",
   "metadata": {
    "scrolled": true
   },
   "outputs": [
    {
     "data": {
      "text/plain": [
       "(61776, 25, 25, 3)"
      ]
     },
     "execution_count": 26,
     "metadata": {},
     "output_type": "execute_result"
    }
   ],
   "source": [
    "x_train.shape"
   ]
  },
  {
   "cell_type": "markdown",
   "id": "883e3c35-2725-4fd6-8b53-07da319d96c3",
   "metadata": {},
   "source": [
    "### Input layer"
   ]
  },
  {
   "cell_type": "code",
   "execution_count": 27,
   "id": "8f4dea2a-1b97-4499-949d-6c51f28fe06f",
   "metadata": {},
   "outputs": [],
   "source": [
    "model = Sequential()"
   ]
  },
  {
   "cell_type": "markdown",
   "id": "4e1fca60-6ae6-4a3f-a99d-381813d43362",
   "metadata": {},
   "source": [
    "### Hidden layers\n",
    "I found that CNNs usually have 3 types of layers[2][3][4]. There are some convolutional parts right after the input layer, to \"sum\" certain parts of the picture together. I think it's like analysing specific parts of a letter. Compared to [1] I changed the kernel_size to 5 ([3] uses it too), it seems to work with the traning set better. I didn't replace ReLU because it's widely used to increase non-linearity[3]."
   ]
  },
  {
   "cell_type": "code",
   "execution_count": 28,
   "id": "a1ee5161",
   "metadata": {},
   "outputs": [],
   "source": [
    "model.add(Conv2D(filters=32, kernel_size=(5, 5), activation='relu', input_shape=(25,25,3),\n",
    "                 data_format=\"channels_last\"))"
   ]
  },
  {
   "cell_type": "markdown",
   "id": "23a847ec-b7d7-4e25-be4f-f87a7153a47a",
   "metadata": {},
   "source": [
    "After the convolutional layer, people use a pooling layer. It's useful to find dominant features[3] and prevent overfitting[4]. I changed both the pool_size and the strides and this setting seemed to work well. I think bigger numbers can't explain the patterns that better, and it also decreases the size more, which limits the number of layers. With 2x2 pooling, maximum pooling makes more sense than average pooling, to highlight dominant parts of the picture."
   ]
  },
  {
   "cell_type": "code",
   "execution_count": 29,
   "id": "91ee8626-b7fd-4c60-8c12-d1bed3f1cc76",
   "metadata": {},
   "outputs": [],
   "source": [
    "model.add(MaxPool2D(pool_size=(2, 2), strides=2))"
   ]
  },
  {
   "cell_type": "markdown",
   "id": "70199b12-0fbd-4d9d-9f8a-c273eddf4811",
   "metadata": {},
   "source": [
    "I found a good balance by using two convolutional layers. The model with one layer could be improved and 3 layers seemed not to give much benefit. Here I used padding, to not to make the data too small and it could increase accuracy a bit, but maybe it was random."
   ]
  },
  {
   "cell_type": "code",
   "execution_count": 30,
   "id": "e1086595-7837-4ba0-b277-554791736e4d",
   "metadata": {},
   "outputs": [],
   "source": [
    "model.add(Conv2D(filters=64, kernel_size=(5, 5), activation='relu', padding = 'same'))\n",
    "model.add(MaxPool2D(pool_size=(2, 2), strides=2))"
   ]
  },
  {
   "cell_type": "markdown",
   "id": "6f3acd53-371c-4f2d-9d71-c8f0913561d8",
   "metadata": {},
   "source": [
    "At last, CNN uses \"regular\" NN layers with nodes. For that we need to flatten the data from the pooling layer. Reference [2] uses another layer with 128 nodes after the 64 one. My intuition was that at the end the number should just decrease, and the layer before the output layer should be somewhat bigger than the output layer. I got better accuracy with 64 nodes than 128 nodes."
   ]
  },
  {
   "cell_type": "code",
   "execution_count": 31,
   "id": "cba4ca5b-5aa7-4bd3-8736-cd3a8282c94c",
   "metadata": {},
   "outputs": [],
   "source": [
    "model.add(Flatten())\n",
    "model.add(Dense(64,activation =\"relu\"))"
   ]
  },
  {
   "cell_type": "markdown",
   "id": "a414bb3b-a45c-47d6-b5fc-b62dc1f74b27",
   "metadata": {
    "tags": []
   },
   "source": [
    "### Output layer\n",
    "For multiclass classification softmax seems to be a good algorithm.[1][4]"
   ]
  },
  {
   "cell_type": "code",
   "execution_count": 33,
   "id": "77cf5af5-6fe0-46e4-adfd-b2b8701acdba",
   "metadata": {},
   "outputs": [],
   "source": [
    "model.add(Dense(26,activation =\"softmax\"))"
   ]
  },
  {
   "cell_type": "markdown",
   "id": "eda00379-7ee1-42ea-b7a1-bb6885bd5989",
   "metadata": {
    "tags": []
   },
   "source": [
    "## Model Training\n",
    "There wasn't really much difference between Adam and SGD so I choose Adam because it might prevent overfitting and it seemed to be a bit faster."
   ]
  },
  {
   "cell_type": "code",
   "execution_count": 35,
   "id": "76c8ca3c-37d2-4748-ab82-a82fe13f6b95",
   "metadata": {
    "tags": []
   },
   "outputs": [
    {
     "name": "stdout",
     "output_type": "stream",
     "text": [
      "Model: \"sequential\"\n",
      "_________________________________________________________________\n",
      " Layer (type)                Output Shape              Param #   \n",
      "=================================================================\n",
      " conv2d (Conv2D)             (None, 21, 21, 32)        2432      \n",
      "                                                                 \n",
      " max_pooling2d (MaxPooling2D  (None, 10, 10, 32)       0         \n",
      " )                                                               \n",
      "                                                                 \n",
      " conv2d_1 (Conv2D)           (None, 10, 10, 64)        51264     \n",
      "                                                                 \n",
      " max_pooling2d_1 (MaxPooling  (None, 5, 5, 64)         0         \n",
      " 2D)                                                             \n",
      "                                                                 \n",
      " flatten (Flatten)           (None, 1600)              0         \n",
      "                                                                 \n",
      " dense (Dense)               (None, 64)                102464    \n",
      "                                                                 \n",
      " dense_1 (Dense)             (None, 26)                1690      \n",
      "                                                                 \n",
      "=================================================================\n",
      "Total params: 157,850\n",
      "Trainable params: 157,850\n",
      "Non-trainable params: 0\n",
      "_________________________________________________________________\n"
     ]
    }
   ],
   "source": [
    "opt = Adam(learning_rate=0.001)\n",
    "model.compile(optimizer=opt, loss='categorical_crossentropy', metrics=['accuracy'])\n",
    "model.summary()"
   ]
  },
  {
   "cell_type": "code",
   "execution_count": 36,
   "id": "917c9561",
   "metadata": {},
   "outputs": [
    {
     "name": "stdout",
     "output_type": "stream",
     "text": [
      "Epoch 1/5\n",
      "1545/1545 [==============================] - 59s 36ms/step - loss: 0.5894 - accuracy: 0.8354 - val_loss: 0.1985 - val_accuracy: 0.9459\n",
      "Epoch 2/5\n",
      "1545/1545 [==============================] - 54s 35ms/step - loss: 0.1604 - accuracy: 0.9529 - val_loss: 0.1116 - val_accuracy: 0.9698\n",
      "Epoch 3/5\n",
      "1545/1545 [==============================] - 57s 37ms/step - loss: 0.1013 - accuracy: 0.9688 - val_loss: 0.1146 - val_accuracy: 0.9646\n",
      "Epoch 4/5\n",
      "1545/1545 [==============================] - 58s 38ms/step - loss: 0.0766 - accuracy: 0.9761 - val_loss: 0.0895 - val_accuracy: 0.9730\n",
      "Epoch 5/5\n",
      "1545/1545 [==============================] - 58s 37ms/step - loss: 0.0605 - accuracy: 0.9808 - val_loss: 0.1039 - val_accuracy: 0.9688\n"
     ]
    }
   ],
   "source": [
    "h = model.fit(x_train, y_train_cat, epochs=5, validation_split=0.2)"
   ]
  },
  {
   "cell_type": "markdown",
   "id": "b55e78f8-e577-452e-ac5a-c0bf19acb4a8",
   "metadata": {},
   "source": [
    "## Determining accuracy"
   ]
  },
  {
   "cell_type": "code",
   "execution_count": 37,
   "id": "e3643f12",
   "metadata": {},
   "outputs": [
    {
     "name": "stdout",
     "output_type": "stream",
     "text": [
      "483/483 [==============================] - 6s 11ms/step\n"
     ]
    },
    {
     "data": {
      "text/plain": [
       "0.9677544677544677"
      ]
     },
     "execution_count": 37,
     "metadata": {},
     "output_type": "execute_result"
    }
   ],
   "source": [
    "from sklearn.metrics import accuracy_score\n",
    "y_pred = np.argmax(model.predict(x_test), axis=1)\n",
    "accuracy_score(y_test, y_pred)"
   ]
  },
  {
   "cell_type": "code",
   "execution_count": 40,
   "id": "9cecd052",
   "metadata": {
    "scrolled": true,
    "tags": []
   },
   "outputs": [
    {
     "data": {
      "text/plain": [
       "[<matplotlib.lines.Line2D at 0x7f38b086a8b0>]"
      ]
     },
     "execution_count": 40,
     "metadata": {},
     "output_type": "execute_result"
    },
    {
     "data": {
      "image/png": "[encoded data removed]",
      "text/plain": [
       "<Figure size 432x288 with 1 Axes>"
      ]
     },
     "metadata": {
      "needs_background": "light"
     },
     "output_type": "display_data"
    }
   ],
   "source": [
    "import matplotlib.pyplot as plt\n",
    "plt.plot(h.history[\"accuracy\"])\n",
    "plt.plot(h.history[\"val_accuracy\"])"
   ]
  },
  {
   "cell_type": "code",
   "execution_count": 41,
   "id": "6c8aa637",
   "metadata": {},
   "outputs": [
    {
     "data": {
      "text/plain": [
       "[<matplotlib.lines.Line2D at 0x7f38ab78e0a0>]"
      ]
     },
     "execution_count": 41,
     "metadata": {},
     "output_type": "execute_result"
    },
    {
     "data": {
      "image/png": "[encoded data removed]",
      "text/plain": [
       "<Figure size 432x288 with 1 Axes>"
      ]
     },
     "metadata": {
      "needs_background": "light"
     },
     "output_type": "display_data"
    }
   ],
   "source": [
    "plt.plot(h.history[\"loss\"])\n",
    "plt.plot(h.history[\"val_loss\"])"
   ]
  }
 ],
 "metadata": {
  "kernelspec": {
   "display_name": "Python 3",
   "language": "python",
   "name": "python3"
  },
  "language_info": {
   "codemirror_mode": {
    "name": "ipython",
    "version": 3
   },
   "file_extension": ".py",
   "mimetype": "text/x-python",
   "name": "python",
   "nbconvert_exporter": "python",
   "pygments_lexer": "ipython3",
   "version": "3.8.8"
  }
 },
 "nbformat": 4,
 "nbformat_minor": 5
}
